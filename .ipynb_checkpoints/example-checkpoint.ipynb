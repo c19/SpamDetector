{
 "cells": [
  {
   "cell_type": "code",
   "execution_count": 1,
   "metadata": {
    "collapsed": false
   },
   "outputs": [],
   "source": [
    "from spam import SpamDetector"
   ]
  },
  {
   "cell_type": "code",
   "execution_count": 2,
   "metadata": {
    "collapsed": true
   },
   "outputs": [],
   "source": [
    "from base import do"
   ]
  },
  {
   "cell_type": "code",
   "execution_count": 3,
   "metadata": {
    "collapsed": true
   },
   "outputs": [],
   "source": [
    "spams = do('./data/spams.txt',\n",
    "           open,\n",
    "           lambda f: f.read().splitlines(),\n",
    "           lambda lines: map(lambda l: (l, 1), lines)\n",
    "          )"
   ]
  },
  {
   "cell_type": "code",
   "execution_count": 5,
   "metadata": {
    "collapsed": true
   },
   "outputs": [],
   "source": [
    "nonspams = do('./data/nonspams.txt',\n",
    "              open,\n",
    "              lambda f: f.read().splitlines(),\n",
    "              lambda lines: map(lambda l: (l, 0), lines)\n",
    "             )"
   ]
  },
  {
   "cell_type": "code",
   "execution_count": 7,
   "metadata": {
    "collapsed": true
   },
   "outputs": [],
   "source": [
    "train_set = spams + nonspams"
   ]
  },
  {
   "cell_type": "code",
   "execution_count": 8,
   "metadata": {
    "collapsed": false
   },
   "outputs": [],
   "source": [
    "SpamDetector.train(train_set)"
   ]
  },
  {
   "cell_type": "code",
   "execution_count": 11,
   "metadata": {
    "collapsed": true
   },
   "outputs": [],
   "source": [
    "recall_test_set = [\n",
    "#spams\n",
    "\"100元=15000钻石送VIP10+月卡*3，PK闯关无压力Q504176767\",\n",
    "\"招ios的兄弟备战新区：（463130109），送手冲，有礼 包，教攻略\",\n",
    "\"100=10000钻石+月卡3*志送VIP10，PK闯关无压力Q209060188\",\n",
    "\"英雄联盟D1砖石2D6大师，谁共享账号我带他。wx838557868\",\n",
    "\"100元=10000钻石+月卡3张+直送vip10，PK闯关无压力Q209060188 先\",\n",
    "\"招ios的兄弟一起去新区Q群：（463130109），送手冲，有礼包，教\",\n",
    "\"九九=10000zuan石⋯越卡3張⋯送會員10⋯扣⋯209060188 備戰\",\n",
    "\"[哔~] vip8  200支付宝 要的微信加 h10653605\",\n",
    "\"100=10000钻石+月卡3*志送VIP10，PK闯关无压力Q209060188100=100\",\n",
    "\"100=10000钻+月卡3*直到VIP10，M209060188\",\n",
    "\"史诗男爵100=2万钻送V9+英雄萝莉+橙色装备无尽加Q482381396货到付款\",\n",
    "\"打小就牛鼻[哔~]币收大V号13904599369\",\n",
    "# nonspams\n",
    "\"萝莉好还是女枪好啊？\",\n",
    "\"嗯？\",\n",
    "\"打了一早上\",\n",
    "\"英雄联盟D1砖石2D6大师，谁共享账号我带他。\",\n",
    "\"啦啦啦\",\n",
    "\"dddddwsd\",\n",
    "\"没人\",\n",
    "\"没人啦？\",\n",
    "\"……到V11要多少钱？\",\n",
    "\"什么删档内测？都公测了\",\n",
    "\"冲了月卡怎么领不了\",\n",
    "\"刷刷刷！\",\n",
    "\"..\",\n",
    "\"召唤英灵，V11的\",\n",
    "\"没人玩的吗。？\",\n",
    "\"钻石干嘛的这上面？\",\n",
    "\"半夜不睡+1\",\n",
    "\"喵小雨10区交流群180688185 欢迎各位^_^\",\n",
    "\"迈巴赫超跑俱乐部：大量v11 霸服3级家族 诚邀v9以上 或38级活跃玩家！\",\n",
    "\"德诺之王 公会 欢迎各路大神倾情加盟！微信群：245346603！\",\n",
    "]"
   ]
  },
  {
   "cell_type": "code",
   "execution_count": 18,
   "metadata": {
    "collapsed": false
   },
   "outputs": [
    {
     "name": "stdout",
     "output_type": "stream",
     "text": [
      "3.042585997 100元=15000钻石送VIP10+月卡*3，PK闯关无压力Q504176767\n",
      "4.57836810458 招ios的兄弟备战新区：（463130109），送手冲，有礼 包，教攻略\n",
      "5.45370953702 100=10000钻石+月卡3*志送VIP10，PK闯关无压力Q209060188\n",
      "-0.330129462359 英雄联盟D1砖石2D6大师，谁共享账号我带他。wx838557868\n",
      "5.10770689611 100元=10000钻石+月卡3张+直送vip10，PK闯关无压力Q209060188 先\n",
      "3.78023668478 招ios的兄弟一起去新区Q群：（463130109），送手冲，有礼包，教\n",
      "3.69555283132 九九=10000zuan石⋯越卡3張⋯送會員10⋯扣⋯209060188 備戰\n",
      "-0.715565761267 [哔~] vip8  200支付宝 要的微信加 h10653605\n",
      "8.38936769248 100=10000钻石+月卡3*志送VIP10，PK闯关无压力Q209060188100=100\n",
      "2.75154042967 100=10000钻+月卡3*直到VIP10，M209060188\n",
      "4.51573459645 史诗男爵100=2万钻送V9+英雄萝莉+橙色装备无尽加Q482381396货到付款\n",
      "1.01245636273 打小就牛鼻[哔~]币收大V号13904599369\n",
      "-9.60975538763 萝莉好还是女枪好啊？\n",
      "-7.51070694457 嗯？\n",
      "-7.90653723662 打了一早上\n",
      "-4.00656444008 英雄联盟D1砖石2D6大师，谁共享账号我带他。\n",
      "-6.71607643485 啦啦啦\n",
      "-8.47267000528 dddddwsd\n",
      "-7.68230753541 没人\n",
      "-8.24183167886 没人啦？\n",
      "-6.85830303246 ……到V11要多少钱？\n",
      "-8.22823924019 什么删档内测？都公测了\n",
      "-9.98193393763 冲了月卡怎么领不了\n",
      "-7.57658177589 刷刷刷！\n",
      "-7.33409079039 ..\n",
      "-6.40476511461 召唤英灵，V11的\n",
      "-9.11048468484 没人玩的吗。？\n",
      "-8.38023589522 钻石干嘛的这上面？\n",
      "-7.31100619677 半夜不睡+1\n",
      "-1.39242523214 喵小雨10区交流群180688185 欢迎各位^_^\n",
      "-4.74588940525 迈巴赫超跑俱乐部：大量v11 霸服3级家族 诚邀v9以上 或38级活跃玩家！\n",
      "-3.22232249994 德诺之王 公会 欢迎各路大神倾情加盟！微信群：245346603！\n"
     ]
    }
   ],
   "source": [
    "print \"\\n\".join(map(lambda l: \"{1} {0}\".format(l, SpamDetector.get_score(l)), recall_test_set))"
   ]
  },
  {
   "cell_type": "code",
   "execution_count": null,
   "metadata": {
    "collapsed": true
   },
   "outputs": [],
   "source": []
  }
 ],
 "metadata": {
  "kernelspec": {
   "display_name": "Python 2",
   "language": "python",
   "name": "python2"
  },
  "language_info": {
   "codemirror_mode": {
    "name": "ipython",
    "version": 2
   },
   "file_extension": ".py",
   "mimetype": "text/x-python",
   "name": "python",
   "nbconvert_exporter": "python",
   "pygments_lexer": "ipython2",
   "version": "2.7.12"
  }
 },
 "nbformat": 4,
 "nbformat_minor": 0
}
